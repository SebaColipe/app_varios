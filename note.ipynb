{
 "cells": [
  {
   "cell_type": "code",
   "execution_count": 4,
   "metadata": {},
   "outputs": [],
   "source": [
    "x = r\"sadsa\\asda\\sada\\asd.mp4\""
   ]
  },
  {
   "cell_type": "code",
   "execution_count": 7,
   "metadata": {},
   "outputs": [
    {
     "data": {
      "text/plain": [
       "'.mp4'"
      ]
     },
     "execution_count": 7,
     "metadata": {},
     "output_type": "execute_result"
    }
   ],
   "source": [
    "import os\n",
    "os.path.splitext(x)[1]\n",
    "# os.path.split(x)"
   ]
  },
  {
   "cell_type": "code",
   "execution_count": 17,
   "metadata": {},
   "outputs": [],
   "source": [
    "import os\n",
    "listas = [\n",
    "  'Lista 8',\n",
    "  'Lista 9',\n",
    "  'Lista 10',\n",
    "]\n",
    "for i in listas:\n",
    "    prefix = r\"C:\\Users\\alequ\\Escritorio\\{}\".format(i)\n",
    "    \n",
    "    textos = [ i for i in os.listdir(prefix) if '.txt' in i]\n",
    "    archivo = open(prefix+'.txt', 'a', encoding='utf-8')\n",
    "\n",
    "    for texto in textos:\n",
    "        with open(prefix+\"\\\\\"+ texto, 'r', encoding='utf-8') as fd:\n",
    "            archivo.write(fd.read())\n",
    "        archivo.write(\"\\nSiguiente Video\\n\")\n",
    "\n",
    "    archivo.close()"
   ]
  }
 ],
 "metadata": {
  "kernelspec": {
   "display_name": ".venv",
   "language": "python",
   "name": "python3"
  },
  "language_info": {
   "codemirror_mode": {
    "name": "ipython",
    "version": 3
   },
   "file_extension": ".py",
   "mimetype": "text/x-python",
   "name": "python",
   "nbconvert_exporter": "python",
   "pygments_lexer": "ipython3",
   "version": "3.10.11"
  }
 },
 "nbformat": 4,
 "nbformat_minor": 2
}
